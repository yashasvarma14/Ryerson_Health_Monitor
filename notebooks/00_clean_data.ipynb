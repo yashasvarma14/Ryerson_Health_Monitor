{
 "cells": [
  {
   "cell_type": "code",
   "execution_count": 4,
   "id": "4b888393",
   "metadata": {},
   "outputs": [
    {
     "name": "stdout",
     "output_type": "stream",
     "text": [
      "Step 00 done: wrote 23,397 rows to invoices_clean.csv\n"
     ]
    }
   ],
   "source": [
    "# 00_clean_data.py — clean raw invoices into a tidy format\n",
    "\n",
    "import pandas as pd\n",
    "from pathlib import Path\n",
    "\n",
    "# Paths to raw and clean data files\n",
    "data_dir  = Path(\"../data\")\n",
    "raw_csv   = data_dir / \"dallas_invoices.csv\"  # original file from Ryerson\n",
    "tidy_csv  = data_dir / \"invoices_clean.csv\"   # output file for cleaned data\n",
    "df = pd.read_csv(raw_csv)\n",
    "\n",
    "# Standardize column names: lowercase, snake_case\n",
    "df.columns = (df.columns\n",
    "                .str.strip()\n",
    "                .str.lower()\n",
    "                .str.replace(' ', '_')\n",
    "                .str.replace('-', '_'))\n",
    "\n",
    "# Convert columns to data types needed\n",
    "df['date'] = pd.to_datetime(df['date'], format=\"%m/%d/%y\", errors='coerce')\n",
    "df['shipped_weight'] = pd.to_numeric(df['shipped_weight'], errors='coerce')\n",
    "df['net_sales'] = (df['net_sales'].astype(str)\n",
    "                                .str.replace(r'[$,()]', '', regex=True)\n",
    "                                .astype(float))\n",
    "\n",
    "# Drop any extra columns\n",
    "df = df.loc[:, ~df.columns.str.contains('^unnamed', case=False)]\n",
    "\n",
    "# Drop duplicates\n",
    "df = df.drop_duplicates(['account_name', 'date', 'shipped_weight', 'net_sales'])\n",
    "\n",
    "df.to_csv(tidy_csv, index=False)\n",
    "print(f\"Step 00 done: wrote {len(df):,} rows to {tidy_csv.name}\")\n"
   ]
  }
 ],
 "metadata": {
  "kernelspec": {
   "display_name": "env",
   "language": "python",
   "name": "python3"
  },
  "language_info": {
   "codemirror_mode": {
    "name": "ipython",
    "version": 3
   },
   "file_extension": ".py",
   "mimetype": "text/x-python",
   "name": "python",
   "nbconvert_exporter": "python",
   "pygments_lexer": "ipython3",
   "version": "3.9.6"
  }
 },
 "nbformat": 4,
 "nbformat_minor": 5
}
